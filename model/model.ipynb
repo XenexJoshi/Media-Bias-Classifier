{
 "cells": [
  {
   "cell_type": "code",
   "execution_count": 191,
   "metadata": {},
   "outputs": [],
   "source": [
    "import tensorflow\n",
    "from tensorflow import keras\n",
    "from gensim.models import Doc2Vec\n",
    "from gensim.models.doc2vec import TaggedDocument\n",
    "\n",
    "from sklearn import utils"
   ]
  },
  {
   "cell_type": "code",
   "execution_count": 192,
   "metadata": {},
   "outputs": [],
   "source": [
    "from preprocessing import *\n",
    "\n",
    "PATH_LEFT = '../data/data_left.csv'\n",
    "PATH_CENTER = '../data/data_center.csv'\n",
    "PATH_RIGHT = '../data/data_right.csv'"
   ]
  },
  {
   "cell_type": "code",
   "execution_count": 193,
   "metadata": {},
   "outputs": [
    {
     "name": "stdout",
     "output_type": "stream",
     "text": [
      "                                                text bias_rating\n",
      "0  South Carolina Primary Will Test Hillary Clint...        left\n",
      "1  State election officials push back on data req...        left\n",
      "2  Tillerson Says 'All Of The Options Are On The ...        left\n",
      "3  Baltimore: After riots, protesters and police ...        left\n",
      "4  Live Blog: Digging Into The #UkraineDocs: Late...        left\n",
      "                                                text bias_rating\n",
      "0  Herschel Walker's son accuses father of lying ...      center\n",
      "1  Coronavirus Sparks Talk of Global Recession an...      center\n",
      "2  Trump signs budget deal after raising governme...      center\n",
      "3  Trump to Call for Bipartisanship as He Threate...      center\n",
      "4  UK set for new PM as Theresa May quits: Theres...      center\n",
      "                                                text bias_rating\n",
      "0  FBI gun checks in March break all-time record:...       right\n",
      "1  NYT updates Kavanaugh 'bombshell' to note accu...       right\n",
      "2  Another Justice Like Gorsuch, Please: \"We have...       right\n",
      "3  Sean Spicer: Paul Ryan’s Fate as Speaker ‘Up t...       right\n",
      "4  Sean Hannity: New York Times 'trying to distra...       right\n"
     ]
    }
   ],
   "source": [
    "df_left = load_and_process(PATH_LEFT)\n",
    "print(df_left.head())\n",
    "\n",
    "df_center = load_and_process(PATH_CENTER)\n",
    "print(df_center.head())\n",
    "\n",
    "df_right = load_and_process(PATH_RIGHT)\n",
    "print(df_right.head())"
   ]
  },
  {
   "cell_type": "code",
   "execution_count": 194,
   "metadata": {},
   "outputs": [
    {
     "name": "stderr",
     "output_type": "stream",
     "text": [
      "/var/folders/9x/w6hlwnl17tn5m06v9vh_m8jh0000gn/T/ipykernel_27149/4129041832.py:2: FutureWarning: Downcasting behavior in `replace` is deprecated and will be removed in a future version. To retain the old behavior, explicitly call `result.infer_objects(copy=False)`. To opt-in to the future behavior, set `pd.set_option('future.no_silent_downcasting', True)`\n",
      "  df['bias_rating'] = df['bias_rating'].replace(['left', 'center', 'right'], [int(0), int(1), int(2)])\n"
     ]
    },
    {
     "data": {
      "text/plain": [
       "(12000, 2)"
      ]
     },
     "execution_count": 194,
     "metadata": {},
     "output_type": "execute_result"
    }
   ],
   "source": [
    "df = pd.concat([df_left, df_center, df_right], axis = 0)\n",
    "df['bias_rating'] = df['bias_rating'].replace(['left', 'center', 'right'], [int(0), int(1), int(2)])\n",
    "\n",
    "df.shape"
   ]
  },
  {
   "cell_type": "code",
   "execution_count": 195,
   "metadata": {},
   "outputs": [
    {
     "data": {
      "text/plain": [
       "91"
      ]
     },
     "execution_count": 195,
     "metadata": {},
     "output_type": "execute_result"
    }
   ],
   "source": [
    "tagged_documents = []\n",
    "for _, row in df.iterrows():\n",
    "    words = preprocess_text(str(row['text']))\n",
    "    tags = [row['bias_rating']]\n",
    "    tagged_documents.append(TaggedDocument(words=words, tags=tags))\n",
    "\n",
    "max_length = 0\n",
    "for docs in tagged_documents:\n",
    "    if (len(docs[0]) > max_length):\n",
    "        max_length = len(docs[0])\n",
    "max_length"
   ]
  },
  {
   "cell_type": "code",
   "execution_count": 196,
   "metadata": {},
   "outputs": [],
   "source": [
    "import multiprocessing\n",
    "\n",
    "cores = multiprocessing.cpu_count()\n",
    "model = Doc2Vec(dm = 0, vector_size = max_length, negative = 5, hs = 0, sample = 0, min_count = 2, workers = cores)"
   ]
  },
  {
   "cell_type": "code",
   "execution_count": 197,
   "metadata": {},
   "outputs": [],
   "source": [
    "df['text'] = tagged_documents\n",
    "\n",
    "model.build_vocab(df['text'].values)\n",
    "model.train(utils.shuffle(df['text'].values), total_examples = len(df['text'].values), epochs = 30)"
   ]
  },
  {
   "cell_type": "code",
   "execution_count": 198,
   "metadata": {},
   "outputs": [],
   "source": [
    "tagged_documents = df['text'].dropna()\n",
    "features, labels = vec_for_learning(model, tagged_documents)"
   ]
  },
  {
   "cell_type": "code",
   "execution_count": 208,
   "metadata": {},
   "outputs": [],
   "source": [
    "from sklearn.model_selection import train_test_split\n",
    "\n",
    "X_train, X_test, y_train, y_test = train_test_split(features, labels, test_size = 0.30, random_state = 42)"
   ]
  },
  {
   "cell_type": "code",
   "execution_count": 209,
   "metadata": {},
   "outputs": [
    {
     "name": "stdout",
     "output_type": "stream",
     "text": [
      "0.9113888888888889\n"
     ]
    }
   ],
   "source": [
    "from sklearn.svm import SVC\n",
    "from sklearn.metrics import accuracy_score\n",
    "\n",
    "model = SVC()\n",
    "model.fit(X_train, y_train)\n",
    "\n",
    "y_pred = model.predict(X_test)\n",
    "print(accuracy_score(y_pred, y_test))"
   ]
  },
  {
   "cell_type": "code",
   "execution_count": 210,
   "metadata": {},
   "outputs": [
    {
     "name": "stdout",
     "output_type": "stream",
     "text": [
      "Fitting 3 folds for each of 24 candidates, totalling 72 fits\n",
      "[CV] END ..................C=0.01, gamma=0.01, kernel=linear; total time=   1.0s\n",
      "[CV] END ..................C=0.01, gamma=0.01, kernel=linear; total time=   1.0s\n",
      "[CV] END ..................C=0.01, gamma=0.01, kernel=linear; total time=   1.0s\n",
      "[CV] END .....................C=0.01, gamma=0.01, kernel=rbf; total time=   3.4s\n",
      "[CV] END .....................C=0.01, gamma=0.01, kernel=rbf; total time=   3.3s\n",
      "[CV] END .....................C=0.01, gamma=0.01, kernel=rbf; total time=   3.4s\n",
      "[CV] END ...................C=0.01, gamma=0.1, kernel=linear; total time=   0.9s\n",
      "[CV] END ...................C=0.01, gamma=0.1, kernel=linear; total time=   1.0s\n",
      "[CV] END ...................C=0.01, gamma=0.1, kernel=linear; total time=   1.0s\n",
      "[CV] END ......................C=0.01, gamma=0.1, kernel=rbf; total time=   3.3s\n",
      "[CV] END ......................C=0.01, gamma=0.1, kernel=rbf; total time=   3.3s\n",
      "[CV] END ......................C=0.01, gamma=0.1, kernel=rbf; total time=   3.2s\n",
      "[CV] END .....................C=0.01, gamma=1, kernel=linear; total time=   1.0s\n",
      "[CV] END .....................C=0.01, gamma=1, kernel=linear; total time=   1.0s\n",
      "[CV] END .....................C=0.01, gamma=1, kernel=linear; total time=   1.0s\n",
      "[CV] END ........................C=0.01, gamma=1, kernel=rbf; total time=   3.3s\n",
      "[CV] END ........................C=0.01, gamma=1, kernel=rbf; total time=   3.3s\n",
      "[CV] END ........................C=0.01, gamma=1, kernel=rbf; total time=   3.7s\n",
      "[CV] END ...................C=0.1, gamma=0.01, kernel=linear; total time=   0.7s\n",
      "[CV] END ...................C=0.1, gamma=0.01, kernel=linear; total time=   0.7s\n",
      "[CV] END ...................C=0.1, gamma=0.01, kernel=linear; total time=   0.8s\n",
      "[CV] END ......................C=0.1, gamma=0.01, kernel=rbf; total time=   2.6s\n",
      "[CV] END ......................C=0.1, gamma=0.01, kernel=rbf; total time=   2.8s\n",
      "[CV] END ......................C=0.1, gamma=0.01, kernel=rbf; total time=   2.7s\n",
      "[CV] END ....................C=0.1, gamma=0.1, kernel=linear; total time=   0.7s\n",
      "[CV] END ....................C=0.1, gamma=0.1, kernel=linear; total time=   0.8s\n",
      "[CV] END ....................C=0.1, gamma=0.1, kernel=linear; total time=   0.8s\n",
      "[CV] END .......................C=0.1, gamma=0.1, kernel=rbf; total time=   2.1s\n",
      "[CV] END .......................C=0.1, gamma=0.1, kernel=rbf; total time=   2.1s\n",
      "[CV] END .......................C=0.1, gamma=0.1, kernel=rbf; total time=   2.2s\n",
      "[CV] END ......................C=0.1, gamma=1, kernel=linear; total time=   0.7s\n",
      "[CV] END ......................C=0.1, gamma=1, kernel=linear; total time=   0.7s\n",
      "[CV] END ......................C=0.1, gamma=1, kernel=linear; total time=   0.8s\n",
      "[CV] END .........................C=0.1, gamma=1, kernel=rbf; total time=   3.4s\n",
      "[CV] END .........................C=0.1, gamma=1, kernel=rbf; total time=   3.3s\n",
      "[CV] END .........................C=0.1, gamma=1, kernel=rbf; total time=   3.3s\n",
      "[CV] END .....................C=1, gamma=0.01, kernel=linear; total time=   0.8s\n",
      "[CV] END .....................C=1, gamma=0.01, kernel=linear; total time=   0.8s\n",
      "[CV] END .....................C=1, gamma=0.01, kernel=linear; total time=   0.8s\n",
      "[CV] END ........................C=1, gamma=0.01, kernel=rbf; total time=   1.6s\n",
      "[CV] END ........................C=1, gamma=0.01, kernel=rbf; total time=   1.8s\n",
      "[CV] END ........................C=1, gamma=0.01, kernel=rbf; total time=   1.9s\n",
      "[CV] END ......................C=1, gamma=0.1, kernel=linear; total time=   0.8s\n",
      "[CV] END ......................C=1, gamma=0.1, kernel=linear; total time=   0.9s\n",
      "[CV] END ......................C=1, gamma=0.1, kernel=linear; total time=   1.2s\n",
      "[CV] END .........................C=1, gamma=0.1, kernel=rbf; total time=   1.3s\n",
      "[CV] END .........................C=1, gamma=0.1, kernel=rbf; total time=   1.3s\n",
      "[CV] END .........................C=1, gamma=0.1, kernel=rbf; total time=   1.3s\n",
      "[CV] END ........................C=1, gamma=1, kernel=linear; total time=   0.8s\n",
      "[CV] END ........................C=1, gamma=1, kernel=linear; total time=   0.8s\n",
      "[CV] END ........................C=1, gamma=1, kernel=linear; total time=   0.9s\n",
      "[CV] END ...........................C=1, gamma=1, kernel=rbf; total time=   3.8s\n",
      "[CV] END ...........................C=1, gamma=1, kernel=rbf; total time=   3.5s\n",
      "[CV] END ...........................C=1, gamma=1, kernel=rbf; total time=   3.6s\n",
      "[CV] END ....................C=10, gamma=0.01, kernel=linear; total time=   1.6s\n",
      "[CV] END ....................C=10, gamma=0.01, kernel=linear; total time=   1.8s\n",
      "[CV] END ....................C=10, gamma=0.01, kernel=linear; total time=   1.7s\n",
      "[CV] END .......................C=10, gamma=0.01, kernel=rbf; total time=   1.2s\n",
      "[CV] END .......................C=10, gamma=0.01, kernel=rbf; total time=   1.5s\n",
      "[CV] END .......................C=10, gamma=0.01, kernel=rbf; total time=   1.3s\n",
      "[CV] END .....................C=10, gamma=0.1, kernel=linear; total time=   1.6s\n",
      "[CV] END .....................C=10, gamma=0.1, kernel=linear; total time=   1.7s\n",
      "[CV] END .....................C=10, gamma=0.1, kernel=linear; total time=   1.7s\n",
      "[CV] END ........................C=10, gamma=0.1, kernel=rbf; total time=   1.0s\n",
      "[CV] END ........................C=10, gamma=0.1, kernel=rbf; total time=   1.0s\n",
      "[CV] END ........................C=10, gamma=0.1, kernel=rbf; total time=   1.1s\n",
      "[CV] END .......................C=10, gamma=1, kernel=linear; total time=   1.7s\n",
      "[CV] END .......................C=10, gamma=1, kernel=linear; total time=   1.7s\n",
      "[CV] END .......................C=10, gamma=1, kernel=linear; total time=   1.7s\n",
      "[CV] END ..........................C=10, gamma=1, kernel=rbf; total time=   3.5s\n",
      "[CV] END ..........................C=10, gamma=1, kernel=rbf; total time=   3.6s\n",
      "[CV] END ..........................C=10, gamma=1, kernel=rbf; total time=   3.5s\n",
      "The accuracy of the SVM(with 3-CV) classifier is: 93.333%.\n"
     ]
    }
   ],
   "source": [
    "from sklearn.model_selection import GridSearchCV\n",
    "\n",
    "# Selecting an array of hyperparameters for hyperparameter tuning using GridSearchCV() function\n",
    "parameters = {\n",
    "  'C' : [0.01, 0.1, 1, 10],\n",
    "  'kernel' : ['linear', 'rbf'],\n",
    "  'gamma' : [0.01, 0.1, 1],\n",
    "}\n",
    "\n",
    "# Setting up the hyperparameter tunings\n",
    "svm_cv_model = GridSearchCV( estimator = SVC(),\n",
    "                         param_grid = parameters,\n",
    "                         cv = 3,\n",
    "                         verbose = 2\n",
    ")\n",
    "\n",
    "# Running GridSearchCV() on training set\n",
    "svm_cv_model.fit(X_train, y_train)\n",
    "\n",
    "# Getting prediction on testing set\n",
    "y_pred = svm_cv_model.predict(X_test)\n",
    "accuracy = accuracy_score(y_test, y_pred)\n",
    "print(\"The accuracy of the SVM(with 3-CV) classifier is: \" + str(round(100 * accuracy, 3)) + \"%.\")"
   ]
  }
 ],
 "metadata": {
  "kernelspec": {
   "display_name": ".venv",
   "language": "python",
   "name": "python3"
  },
  "language_info": {
   "codemirror_mode": {
    "name": "ipython",
    "version": 3
   },
   "file_extension": ".py",
   "mimetype": "text/x-python",
   "name": "python",
   "nbconvert_exporter": "python",
   "pygments_lexer": "ipython3",
   "version": "3.9.6"
  }
 },
 "nbformat": 4,
 "nbformat_minor": 2
}
