{
 "cells": [
  {
   "cell_type": "code",
   "execution_count": 1,
   "metadata": {},
   "outputs": [
    {
     "name": "stderr",
     "output_type": "stream",
     "text": [
      "/Users/xenexjoshi/Media Bias Web/.venv/lib/python3.9/site-packages/urllib3/__init__.py:35: NotOpenSSLWarning: urllib3 v2 only supports OpenSSL 1.1.1+, currently the 'ssl' module is compiled with 'LibreSSL 2.8.3'. See: https://github.com/urllib3/urllib3/issues/3020\n",
      "  warnings.warn(\n"
     ]
    }
   ],
   "source": [
    "import tensorflow\n",
    "from tensorflow import keras\n",
    "from gensim.models import Doc2Vec\n",
    "from gensim.models.doc2vec import TaggedDocument\n",
    "\n",
    "from sklearn import utils"
   ]
  },
  {
   "cell_type": "code",
   "execution_count": 2,
   "metadata": {},
   "outputs": [],
   "source": [
    "from preprocessing import *\n",
    "\n",
    "PATH_LEFT = '../data/data_left.csv'\n",
    "PATH_CENTER = '../data/data_center.csv'\n",
    "PATH_RIGHT = '../data/data_right.csv'"
   ]
  },
  {
   "cell_type": "code",
   "execution_count": 3,
   "metadata": {},
   "outputs": [
    {
     "name": "stdout",
     "output_type": "stream",
     "text": [
      "                                                text bias_rating\n",
      "0  Trump's Policy Of Forcing Asylum-Seekers To Wa...        left\n",
      "1  Fourth of July parties will cost more this yea...        left\n",
      "2  Mother’s Day Can Be Painful. It Can Also Recon...        left\n",
      "3  'The crisis we face is real': Blinken on why B...        left\n",
      "4  John Kerry to give major speech on Iran nuclea...        left\n",
      "                                                text bias_rating\n",
      "0  U.S. lawmakers urge Google to fix abortion sea...      center\n",
      "1  Harvey Weinstein accusers reach tentative $25 ...      center\n",
      "2  De Blasio: ‘Political Debate’ Can Wait Until A...      center\n",
      "3  'Finally, infrastructure week': White House ce...      center\n",
      "4  ‘confusing’ small-business loan program needs ...      center\n",
      "                                                text bias_rating\n",
      "0  Tragedy strikes hearts, changes Ã¢â‚¬Â¨minds o...       right\n",
      "1  Ex-Space Force commander: DOD videos claimed w...       right\n",
      "2  US attorney handling Hunter Biden probe asked ...       right\n",
      "3  Trump Calls out Harley-Davidson for Moving Pro...       right\n",
      "4  Biden to make Iowa trip next week: Vice Presid...       right\n"
     ]
    }
   ],
   "source": [
    "df_left = load_and_process(PATH_LEFT)\n",
    "print(df_left.head())\n",
    "\n",
    "df_center = load_and_process(PATH_CENTER)\n",
    "print(df_center.head())\n",
    "\n",
    "df_right = load_and_process(PATH_RIGHT)\n",
    "print(df_right.head())"
   ]
  },
  {
   "cell_type": "code",
   "execution_count": 4,
   "metadata": {},
   "outputs": [
    {
     "name": "stderr",
     "output_type": "stream",
     "text": [
      "/var/folders/9x/w6hlwnl17tn5m06v9vh_m8jh0000gn/T/ipykernel_32346/4129041832.py:2: FutureWarning: Downcasting behavior in `replace` is deprecated and will be removed in a future version. To retain the old behavior, explicitly call `result.infer_objects(copy=False)`. To opt-in to the future behavior, set `pd.set_option('future.no_silent_downcasting', True)`\n",
      "  df['bias_rating'] = df['bias_rating'].replace(['left', 'center', 'right'], [int(0), int(1), int(2)])\n"
     ]
    },
    {
     "data": {
      "text/plain": [
       "(12000, 2)"
      ]
     },
     "execution_count": 4,
     "metadata": {},
     "output_type": "execute_result"
    }
   ],
   "source": [
    "df = pd.concat([df_left, df_center, df_right], axis = 0)\n",
    "df['bias_rating'] = df['bias_rating'].replace(['left', 'center', 'right'], [int(0), int(1), int(2)])\n",
    "\n",
    "df.shape"
   ]
  },
  {
   "cell_type": "code",
   "execution_count": 5,
   "metadata": {},
   "outputs": [
    {
     "data": {
      "text/plain": [
       "91"
      ]
     },
     "execution_count": 5,
     "metadata": {},
     "output_type": "execute_result"
    }
   ],
   "source": [
    "tagged_documents = []\n",
    "for _, row in df.iterrows():\n",
    "    words = preprocess_text(str(row['text']))\n",
    "    tags = [row['bias_rating']]\n",
    "    tagged_documents.append(TaggedDocument(words=words, tags=tags))\n",
    "\n",
    "max_length = 0\n",
    "for docs in tagged_documents:\n",
    "    if (len(docs[0]) > max_length):\n",
    "        max_length = len(docs[0])\n",
    "max_length"
   ]
  },
  {
   "cell_type": "code",
   "execution_count": 6,
   "metadata": {},
   "outputs": [],
   "source": [
    "import multiprocessing\n",
    "\n",
    "cores = multiprocessing.cpu_count()\n",
    "model = Doc2Vec(dm = 0, vector_size = max_length, negative = 5, hs = 0, sample = 0, min_count = 2, workers = cores)"
   ]
  },
  {
   "cell_type": "code",
   "execution_count": 7,
   "metadata": {},
   "outputs": [],
   "source": [
    "df['text'] = tagged_documents\n",
    "\n",
    "model.build_vocab(df['text'].values)\n",
    "model.train(utils.shuffle(df['text'].values), total_examples = len(df['text'].values), epochs = 30)"
   ]
  },
  {
   "cell_type": "code",
   "execution_count": 8,
   "metadata": {},
   "outputs": [],
   "source": [
    "tagged_documents = df['text'].dropna()\n",
    "features, labels = vec_for_learning(model, tagged_documents)"
   ]
  },
  {
   "cell_type": "code",
   "execution_count": 9,
   "metadata": {},
   "outputs": [],
   "source": [
    "from sklearn.model_selection import train_test_split\n",
    "\n",
    "X_train, X_test, y_train, y_test = train_test_split(features, labels, test_size = 0.30, random_state = 42)"
   ]
  },
  {
   "cell_type": "code",
   "execution_count": 10,
   "metadata": {},
   "outputs": [
    {
     "name": "stdout",
     "output_type": "stream",
     "text": [
      "0.9069444444444444\n"
     ]
    }
   ],
   "source": [
    "from sklearn.svm import SVC\n",
    "from sklearn.metrics import accuracy_score\n",
    "\n",
    "model = SVC()\n",
    "model.fit(X_train, y_train)\n",
    "\n",
    "y_pred = model.predict(X_test)\n",
    "print(accuracy_score(y_pred, y_test))"
   ]
  },
  {
   "cell_type": "code",
   "execution_count": 11,
   "metadata": {},
   "outputs": [
    {
     "name": "stdout",
     "output_type": "stream",
     "text": [
      "Fitting 3 folds for each of 24 candidates, totalling 72 fits\n",
      "[CV] END ..................C=0.01, gamma=0.01, kernel=linear; total time=   1.0s\n",
      "[CV] END ..................C=0.01, gamma=0.01, kernel=linear; total time=   1.0s\n",
      "[CV] END ..................C=0.01, gamma=0.01, kernel=linear; total time=   1.0s\n",
      "[CV] END .....................C=0.01, gamma=0.01, kernel=rbf; total time=   3.5s\n",
      "[CV] END .....................C=0.01, gamma=0.01, kernel=rbf; total time=   3.5s\n",
      "[CV] END .....................C=0.01, gamma=0.01, kernel=rbf; total time=   3.4s\n",
      "[CV] END ...................C=0.01, gamma=0.1, kernel=linear; total time=   1.0s\n",
      "[CV] END ...................C=0.01, gamma=0.1, kernel=linear; total time=   1.0s\n",
      "[CV] END ...................C=0.01, gamma=0.1, kernel=linear; total time=   1.0s\n",
      "[CV] END ......................C=0.01, gamma=0.1, kernel=rbf; total time=   3.3s\n",
      "[CV] END ......................C=0.01, gamma=0.1, kernel=rbf; total time=   3.5s\n",
      "[CV] END ......................C=0.01, gamma=0.1, kernel=rbf; total time=   3.5s\n",
      "[CV] END .....................C=0.01, gamma=1, kernel=linear; total time=   1.0s\n",
      "[CV] END .....................C=0.01, gamma=1, kernel=linear; total time=   1.1s\n",
      "[CV] END .....................C=0.01, gamma=1, kernel=linear; total time=   1.0s\n",
      "[CV] END ........................C=0.01, gamma=1, kernel=rbf; total time=   3.4s\n",
      "[CV] END ........................C=0.01, gamma=1, kernel=rbf; total time=   3.4s\n",
      "[CV] END ........................C=0.01, gamma=1, kernel=rbf; total time=   3.4s\n",
      "[CV] END ...................C=0.1, gamma=0.01, kernel=linear; total time=   0.7s\n",
      "[CV] END ...................C=0.1, gamma=0.01, kernel=linear; total time=   0.7s\n",
      "[CV] END ...................C=0.1, gamma=0.01, kernel=linear; total time=   0.7s\n",
      "[CV] END ......................C=0.1, gamma=0.01, kernel=rbf; total time=   3.0s\n",
      "[CV] END ......................C=0.1, gamma=0.01, kernel=rbf; total time=   2.6s\n",
      "[CV] END ......................C=0.1, gamma=0.01, kernel=rbf; total time=   2.6s\n",
      "[CV] END ....................C=0.1, gamma=0.1, kernel=linear; total time=   0.8s\n",
      "[CV] END ....................C=0.1, gamma=0.1, kernel=linear; total time=   0.8s\n",
      "[CV] END ....................C=0.1, gamma=0.1, kernel=linear; total time=   0.7s\n",
      "[CV] END .......................C=0.1, gamma=0.1, kernel=rbf; total time=   2.1s\n",
      "[CV] END .......................C=0.1, gamma=0.1, kernel=rbf; total time=   2.1s\n",
      "[CV] END .......................C=0.1, gamma=0.1, kernel=rbf; total time=   2.1s\n",
      "[CV] END ......................C=0.1, gamma=1, kernel=linear; total time=   0.7s\n",
      "[CV] END ......................C=0.1, gamma=1, kernel=linear; total time=   0.8s\n",
      "[CV] END ......................C=0.1, gamma=1, kernel=linear; total time=   0.7s\n",
      "[CV] END .........................C=0.1, gamma=1, kernel=rbf; total time=   3.3s\n",
      "[CV] END .........................C=0.1, gamma=1, kernel=rbf; total time=   3.4s\n",
      "[CV] END .........................C=0.1, gamma=1, kernel=rbf; total time=   3.4s\n",
      "[CV] END .....................C=1, gamma=0.01, kernel=linear; total time=   0.8s\n",
      "[CV] END .....................C=1, gamma=0.01, kernel=linear; total time=   0.9s\n",
      "[CV] END .....................C=1, gamma=0.01, kernel=linear; total time=   0.8s\n",
      "[CV] END ........................C=1, gamma=0.01, kernel=rbf; total time=   1.7s\n",
      "[CV] END ........................C=1, gamma=0.01, kernel=rbf; total time=   1.7s\n",
      "[CV] END ........................C=1, gamma=0.01, kernel=rbf; total time=   1.6s\n",
      "[CV] END ......................C=1, gamma=0.1, kernel=linear; total time=   0.8s\n",
      "[CV] END ......................C=1, gamma=0.1, kernel=linear; total time=   0.8s\n",
      "[CV] END ......................C=1, gamma=0.1, kernel=linear; total time=   0.8s\n",
      "[CV] END .........................C=1, gamma=0.1, kernel=rbf; total time=   1.3s\n",
      "[CV] END .........................C=1, gamma=0.1, kernel=rbf; total time=   1.3s\n",
      "[CV] END .........................C=1, gamma=0.1, kernel=rbf; total time=   1.3s\n",
      "[CV] END ........................C=1, gamma=1, kernel=linear; total time=   0.8s\n",
      "[CV] END ........................C=1, gamma=1, kernel=linear; total time=   0.8s\n",
      "[CV] END ........................C=1, gamma=1, kernel=linear; total time=   0.8s\n",
      "[CV] END ...........................C=1, gamma=1, kernel=rbf; total time=   3.5s\n",
      "[CV] END ...........................C=1, gamma=1, kernel=rbf; total time=   3.5s\n",
      "[CV] END ...........................C=1, gamma=1, kernel=rbf; total time=   3.7s\n",
      "[CV] END ....................C=10, gamma=0.01, kernel=linear; total time=   1.8s\n",
      "[CV] END ....................C=10, gamma=0.01, kernel=linear; total time=   1.8s\n",
      "[CV] END ....................C=10, gamma=0.01, kernel=linear; total time=   1.8s\n",
      "[CV] END .......................C=10, gamma=0.01, kernel=rbf; total time=   1.2s\n",
      "[CV] END .......................C=10, gamma=0.01, kernel=rbf; total time=   1.2s\n",
      "[CV] END .......................C=10, gamma=0.01, kernel=rbf; total time=   1.2s\n",
      "[CV] END .....................C=10, gamma=0.1, kernel=linear; total time=   1.9s\n",
      "[CV] END .....................C=10, gamma=0.1, kernel=linear; total time=   1.7s\n",
      "[CV] END .....................C=10, gamma=0.1, kernel=linear; total time=   1.7s\n",
      "[CV] END ........................C=10, gamma=0.1, kernel=rbf; total time=   1.0s\n",
      "[CV] END ........................C=10, gamma=0.1, kernel=rbf; total time=   1.0s\n",
      "[CV] END ........................C=10, gamma=0.1, kernel=rbf; total time=   1.0s\n",
      "[CV] END .......................C=10, gamma=1, kernel=linear; total time=   1.7s\n",
      "[CV] END .......................C=10, gamma=1, kernel=linear; total time=   2.0s\n",
      "[CV] END .......................C=10, gamma=1, kernel=linear; total time=   1.6s\n",
      "[CV] END ..........................C=10, gamma=1, kernel=rbf; total time=   3.5s\n",
      "[CV] END ..........................C=10, gamma=1, kernel=rbf; total time=   3.5s\n",
      "[CV] END ..........................C=10, gamma=1, kernel=rbf; total time=   3.5s\n",
      "The accuracy of the SVM(with 3-CV) classifier is: 92.278%.\n"
     ]
    }
   ],
   "source": [
    "from sklearn.model_selection import GridSearchCV\n",
    "\n",
    "# Selecting an array of hyperparameters for hyperparameter tuning using GridSearchCV() function\n",
    "parameters = {\n",
    "  'C' : [0.01, 0.1, 1, 10],\n",
    "  'kernel' : ['linear', 'rbf'],\n",
    "  'gamma' : [0.01, 0.1, 1],\n",
    "}\n",
    "\n",
    "# Setting up the hyperparameter tunings\n",
    "svm_cv_model = GridSearchCV( estimator = SVC(),\n",
    "                         param_grid = parameters,\n",
    "                         cv = 3,\n",
    "                         verbose = 2\n",
    ")\n",
    "\n",
    "# Running GridSearchCV() on training set\n",
    "svm_cv_model.fit(X_train, y_train)\n",
    "\n",
    "# Getting prediction on testing set\n",
    "y_pred = svm_cv_model.predict(X_test)\n",
    "accuracy = accuracy_score(y_test, y_pred)\n",
    "print(\"The accuracy of the SVM(with 3-CV) classifier is: \" + str(round(100 * accuracy, 3)) + \"%.\")"
   ]
  },
  {
   "cell_type": "code",
   "execution_count": 12,
   "metadata": {},
   "outputs": [
    {
     "data": {
      "text/plain": [
       "['../app/bias_predictor.joblib']"
      ]
     },
     "execution_count": 12,
     "metadata": {},
     "output_type": "execute_result"
    }
   ],
   "source": [
    "from joblib import dump\n",
    "\n",
    "dump(model, '../app/tokenizer.joblib')\n",
    "dump(svm_cv_model, '../app/bias_predictor.joblib')"
   ]
  }
 ],
 "metadata": {
  "kernelspec": {
   "display_name": ".venv",
   "language": "python",
   "name": "python3"
  },
  "language_info": {
   "codemirror_mode": {
    "name": "ipython",
    "version": 3
   },
   "file_extension": ".py",
   "mimetype": "text/x-python",
   "name": "python",
   "nbconvert_exporter": "python",
   "pygments_lexer": "ipython3",
   "version": "3.9.6"
  }
 },
 "nbformat": 4,
 "nbformat_minor": 2
}
